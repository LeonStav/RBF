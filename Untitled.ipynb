{
 "cells": [
  {
   "cell_type": "code",
   "execution_count": 62,
   "id": "6e2f2bd2",
   "metadata": {},
   "outputs": [
    {
     "name": "stdout",
     "output_type": "stream",
     "text": [
      "2.3.0\n"
     ]
    }
   ],
   "source": [
    "import pandas as pd\n",
    "import matplotlib.pyplot as plt\n",
    "import sklearn\n",
    "import numpy as np\n",
    "from sklearn import preprocessing\n",
    "import os\n",
    "import dictutils\n",
    "import keras\n",
    "import tensorflow as tf\n",
    "print(tf.__version__)\n",
    "import time\n",
    "import re\n",
    "import sys\n",
    "import math\n",
    "import struct\n",
    "import os\n",
    "import numpy as np\n",
    "import matplotlib.pyplot as plt\n",
    "import numpy as np\n",
    "from scipy.special import expit\n",
    "import sys\n",
    "from sklearn.model_selection import train_test_split\n",
    "from sklearn import metrics\n",
    "from sklearn.metrics import accuracy_score"
   ]
  },
  {
   "cell_type": "code",
   "execution_count": 70,
   "id": "94c41d53",
   "metadata": {},
   "outputs": [],
   "source": [
    "#Με την παρακάτω συνάρτηση ανοίγουμε το αρχείο MNIST\n",
    "def load_mnist(path, kind='train'):\n",
    "    labels_path = os.path.join(path, '%s-labels-idx1-ubyte' % kind)\n",
    "    images_path = os.path.join(path, '%s-images-idx3-ubyte' % kind)\n",
    "    \n",
    "    with open(labels_path, 'rb') as lbpath:\n",
    "        magic, n = struct.unpack('>II', lbpath.read(8))\n",
    "        labels = np.fromfile(lbpath, dtype=np.uint8)\n",
    "        \n",
    "    with open(images_path, 'rb') as imgpath:\n",
    "        magic, num, row, cols = struct.unpack('>IIII', imgpath.read(16))\n",
    "        images = np.fromfile(imgpath, dtype=np.uint8).reshape(len(labels), 784)\n",
    "        \n",
    "    return images, labels\n"
   ]
  },
  {
   "cell_type": "code",
   "execution_count": 79,
   "id": "3cba3f16",
   "metadata": {},
   "outputs": [
    {
     "data": {
      "text/plain": [
       "(10000, 784)"
      ]
     },
     "execution_count": 79,
     "metadata": {},
     "output_type": "execute_result"
    }
   ],
   "source": [
    "#Φορτώνουμε τα αρχεία στις μεταβλητές \n",
    "train_images, train_labels = load_mnist('C:/Users/User/Desktop/rbf/', kind = 'train')\n",
    "train_images.shape\n",
    "\n",
    "test_images, test_labels = load_mnist('C:/Users/User/Desktop/rbf/', kind = 't10k')\n",
    "test_images.shape"
   ]
  },
  {
   "cell_type": "code",
   "execution_count": 80,
   "id": "42870af4",
   "metadata": {},
   "outputs": [],
   "source": [
    "#υπολογισμός της απόστασης\n",
    "def get_distance(x1, x2):\n",
    "    sum = 0\n",
    "    for i in range(len(x1)):\n",
    "        sum += (x1[i] - x2[i]) ** 2\n",
    "    return np.sqrt(sum)\n",
    "\n",
    "#Υπολογισμός των kmeans\n",
    "def KMeans(X, k, max_iters):\n",
    "    \n",
    "    centroids = X[np.random.choice(range(len(X)), k, replace=False)]\n",
    "    converged = False\n",
    "    current_iter = 0\n",
    "    \n",
    "    while (not converged) and (current_iter < max_iters):\n",
    "        cluster_list = [[] for i in range(len(centroids))]\n",
    "        for x in X:  \n",
    "            distances_list = []\n",
    "            for c in centroids:\n",
    "                distances_list.append(get_distance(c, x))\n",
    "            cluster_list[int(np.argmin(distances_list))].append(x)\n",
    "        cluster_list = list((filter(None, cluster_list)))\n",
    "        prev_centroids = centroids.copy()\n",
    "        centroids = []\n",
    "        for j in range(len(cluster_list)):\n",
    "            centroids.append(np.mean(cluster_list[j], axis=0))\n",
    "        pattern = np.abs(np.sum(prev_centroids) - np.sum(centroids))\n",
    "        print('K-MEANS: ', int(pattern))\n",
    "        converged = (pattern == 0)\n",
    "        current_iter += 1\n",
    "    return np.array(centroids), [np.std(x) for x in cluster_list]"
   ]
  },
  {
   "cell_type": "code",
   "execution_count": 81,
   "id": "80f7746f",
   "metadata": {},
   "outputs": [],
   "source": [
    "class RBF:\n",
    "    #Με την παρακάτω συνάρτηση εισάγουμε τις μεταβλητές\n",
    "    def __init__(self, X, y, tX, ty, num_of_classes, k, std_from_clusters=True):\n",
    "        self.X = X\n",
    "        self.y = y\n",
    "        self.tX = tX\n",
    "        self.ty = ty\n",
    "        self.number_of_classes = num_of_classes\n",
    "        self.k = k\n",
    "        self.std_from_clusters = std_from_clusters\n",
    "    #Με την παρακάτω συνάρτηση κωδικοποιούμε μεσω του one_hot_encoder\n",
    "    def convert_to_one_hot(self, x, num_of_classes):\n",
    "        arr = np.zeros((len(x), num_of_classes))\n",
    "        for i in range(len(x)):\n",
    "            c = int(x[i])\n",
    "            arr[i][c] = 1\n",
    "        return arr\n",
    "    #Με αυτή την συνάρτηση παίρνουμε την απόσταση \n",
    "    def rbf(self, x, c, s):\n",
    "        distance = get_distance(x, c)\n",
    "        return 1 / np.exp(-distance / s ** 2)\n",
    "    #Με αυτή την συνάρτηση παίρνουμε την λιστα του κατηγοριοποιητή \n",
    "    def rbf_list(self, X, centroids, std_list):\n",
    "        RBF_list = []\n",
    "        for x in X:\n",
    "            RBF_list.append([self.rbf(x, c, s) for (c, s) in zip(centroids, std_list)])\n",
    "        return np.array(RBF_list)\n",
    "    #Η συνάρτηση fit\n",
    "    def fit(self):\n",
    "        self.centroids, self.std_list = KMeans(self.X, self.k, max_iters=1000)\n",
    "        if not self.std_from_clusters:\n",
    "            dMax = np.max([get_distance(c1, c2) for c1 in self.centroids for c2 in self.centroids])\n",
    "            self.std_list = np.repeat(dMax / np.sqrt(2 * self.k), self.k)\n",
    "        RBF_X = self.rbf_list(self.X, self.centroids, self.std_list)\n",
    "        self.w = np.linalg.pinv(RBF_X.T @ RBF_X) @ RBF_X.T @ self.convert_to_one_hot(self.y, self.number_of_classes)\n",
    "        RBF_list_tst = self.rbf_list(self.tX, self.centroids, self.std_list)\n",
    "        self.pred_ty = RBF_list_tst @ self.w\n",
    "        self.pred_ty = np.array([np.argmax(x) for x in self.pred_ty])\n",
    "        diff = self.pred_ty - self.ty\n",
    "        print('Accuracy: ', len(np.where(diff == 0)[0]) / len(diff))"
   ]
  },
  {
   "cell_type": "code",
   "execution_count": null,
   "id": "2241ece3",
   "metadata": {},
   "outputs": [
    {
     "name": "stderr",
     "output_type": "stream",
     "text": [
      "C:\\Users\\User\\AppData\\Local\\Temp/ipykernel_4520/797623974.py:4: RuntimeWarning: overflow encountered in ubyte_scalars\n",
      "  sum += (x1[i] - x2[i]) ** 2\n"
     ]
    },
    {
     "name": "stdout",
     "output_type": "stream",
     "text": [
      "K-MEANS:  4846\n",
      "K-MEANS:  6039\n",
      "K-MEANS:  1743\n",
      "K-MEANS:  2162\n",
      "K-MEANS:  1629\n",
      "K-MEANS:  1167\n",
      "K-MEANS:  924\n",
      "K-MEANS:  698\n",
      "K-MEANS:  617\n",
      "K-MEANS:  537\n",
      "K-MEANS:  483\n",
      "K-MEANS:  475\n",
      "K-MEANS:  435\n",
      "K-MEANS:  442\n",
      "K-MEANS:  425\n",
      "K-MEANS:  455\n",
      "K-MEANS:  430\n",
      "K-MEANS:  396\n",
      "K-MEANS:  342\n",
      "K-MEANS:  340\n",
      "K-MEANS:  292\n",
      "K-MEANS:  228\n",
      "K-MEANS:  167\n",
      "K-MEANS:  105\n",
      "K-MEANS:  65\n",
      "K-MEANS:  48\n",
      "K-MEANS:  34\n",
      "K-MEANS:  36\n",
      "K-MEANS:  3\n",
      "K-MEANS:  18\n",
      "K-MEANS:  4\n",
      "K-MEANS:  0\n",
      "K-MEANS:  11\n",
      "K-MEANS:  16\n",
      "K-MEANS:  14\n",
      "K-MEANS:  6\n",
      "K-MEANS:  1\n",
      "K-MEANS:  5\n",
      "K-MEANS:  14\n",
      "K-MEANS:  2\n",
      "K-MEANS:  16\n",
      "K-MEANS:  23\n",
      "K-MEANS:  10\n",
      "K-MEANS:  45\n",
      "K-MEANS:  42\n",
      "K-MEANS:  52\n",
      "K-MEANS:  71\n",
      "K-MEANS:  71\n",
      "K-MEANS:  92\n",
      "K-MEANS:  133\n",
      "K-MEANS:  185\n",
      "K-MEANS:  250\n",
      "K-MEANS:  368\n",
      "K-MEANS:  383\n",
      "K-MEANS:  218\n",
      "K-MEANS:  71\n",
      "K-MEANS:  54\n",
      "K-MEANS:  5\n",
      "K-MEANS:  10\n",
      "K-MEANS:  3\n",
      "K-MEANS:  8\n",
      "K-MEANS:  29\n",
      "K-MEANS:  8\n",
      "K-MEANS:  21\n",
      "K-MEANS:  43\n",
      "K-MEANS:  36\n",
      "K-MEANS:  25\n",
      "K-MEANS:  22\n",
      "K-MEANS:  30\n",
      "K-MEANS:  36\n",
      "K-MEANS:  57\n",
      "K-MEANS:  18\n",
      "K-MEANS:  17\n",
      "K-MEANS:  3\n",
      "K-MEANS:  1\n",
      "K-MEANS:  22\n"
     ]
    }
   ],
   "source": [
    "#Κανουμε fit τον RBF Classifier \n",
    "\n",
    "Classifier_RBF = RBF(train_images, train_labels, test_images, test_labels, num_of_classes=10, k=10, std_from_clusters=False)\n",
    "Classifier_RBF.fit()"
   ]
  },
  {
   "cell_type": "code",
   "execution_count": null,
   "id": "940599ae",
   "metadata": {},
   "outputs": [],
   "source": []
  }
 ],
 "metadata": {
  "kernelspec": {
   "display_name": "Python 3 (ipykernel)",
   "language": "python",
   "name": "python3"
  },
  "language_info": {
   "codemirror_mode": {
    "name": "ipython",
    "version": 3
   },
   "file_extension": ".py",
   "mimetype": "text/x-python",
   "name": "python",
   "nbconvert_exporter": "python",
   "pygments_lexer": "ipython3",
   "version": "3.8.12"
  }
 },
 "nbformat": 4,
 "nbformat_minor": 5
}
